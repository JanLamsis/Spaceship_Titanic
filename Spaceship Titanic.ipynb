{
 "cells": [
  {
   "cell_type": "markdown",
   "id": "cc4dac02",
   "metadata": {},
   "source": [
    "## 0. Imprt Libraries "
   ]
  },
  {
   "cell_type": "code",
   "execution_count": 1,
   "id": "0987a12e",
   "metadata": {},
   "outputs": [],
   "source": [
    "import pathlib\n",
    "import warnings\n",
    "warnings.filterwarnings('ignore')\n",
    "\n",
    "# data analysis and wrangling\n",
    "import pandas as pd\n",
    "import numpy as np\n",
    "import random as rnd\n",
    "from collections import Counter\n",
    "\n",
    "# visualization\n",
    "import seaborn as sns\n",
    "import matplotlib.pyplot as plt\n",
    "%matplotlib inline\n",
    "\n",
    "# processing\n",
    "from sklearn import preprocessing\n",
    "\n",
    "# machine learning\n",
    "from sklearn.metrics import accuracy_score\n",
    "from sklearn.linear_model import LogisticRegression\n",
    "from sklearn.svm import SVC, LinearSVC\n",
    "from sklearn.ensemble import RandomForestClassifier\n",
    "from sklearn.neighbors import KNeighborsClassifier\n",
    "from sklearn.naive_bayes import GaussianNB\n",
    "from sklearn.linear_model import Perceptron\n",
    "from sklearn.linear_model import SGDClassifier\n",
    "from sklearn.tree import DecisionTreeClassifier\n",
    "from sklearn.model_selection import train_test_split\n",
    "from sklearn.ensemble import RandomForestClassifier, GradientBoostingClassifier"
   ]
  },
  {
   "cell_type": "markdown",
   "id": "cea78066",
   "metadata": {},
   "source": [
    "## 1. Download and Read Data"
   ]
  },
  {
   "cell_type": "code",
   "execution_count": 2,
   "id": "02326bf0",
   "metadata": {},
   "outputs": [
    {
     "name": "stdout",
     "output_type": "stream",
     "text": [
      "Downloading spaceship-titanic.zip to /Users/lamsis/Desktop/ML Projects/Space Titanic\n",
      "100%|████████████████████████████████████████| 299k/299k [00:00<00:00, 1.76MB/s]\n",
      "100%|████████████████████████████████████████| 299k/299k [00:00<00:00, 1.75MB/s]\n"
     ]
    }
   ],
   "source": [
    "!kaggle competitions download -c spaceship-titanic"
   ]
  },
  {
   "cell_type": "code",
   "execution_count": 3,
   "id": "66718d97",
   "metadata": {},
   "outputs": [
    {
     "name": "stdout",
     "output_type": "stream",
     "text": [
      "Archive:  spaceship-titanic.zip\r\n",
      "  inflating: sample_submission.csv   \r\n",
      "  inflating: test.csv                \r\n",
      "  inflating: train.csv               \r\n"
     ]
    }
   ],
   "source": [
    "!unzip spaceship-titanic.zip"
   ]
  },
  {
   "cell_type": "code",
   "execution_count": 32,
   "id": "68023fb3",
   "metadata": {},
   "outputs": [
    {
     "data": {
      "text/html": [
       "<div>\n",
       "<style scoped>\n",
       "    .dataframe tbody tr th:only-of-type {\n",
       "        vertical-align: middle;\n",
       "    }\n",
       "\n",
       "    .dataframe tbody tr th {\n",
       "        vertical-align: top;\n",
       "    }\n",
       "\n",
       "    .dataframe thead th {\n",
       "        text-align: right;\n",
       "    }\n",
       "</style>\n",
       "<table border=\"1\" class=\"dataframe\">\n",
       "  <thead>\n",
       "    <tr style=\"text-align: right;\">\n",
       "      <th></th>\n",
       "      <th>PassengerId</th>\n",
       "      <th>HomePlanet</th>\n",
       "      <th>CryoSleep</th>\n",
       "      <th>Cabin</th>\n",
       "      <th>Destination</th>\n",
       "      <th>Age</th>\n",
       "      <th>VIP</th>\n",
       "      <th>RoomService</th>\n",
       "      <th>FoodCourt</th>\n",
       "      <th>ShoppingMall</th>\n",
       "      <th>Spa</th>\n",
       "      <th>VRDeck</th>\n",
       "      <th>Name</th>\n",
       "      <th>Transported</th>\n",
       "    </tr>\n",
       "  </thead>\n",
       "  <tbody>\n",
       "    <tr>\n",
       "      <th>0</th>\n",
       "      <td>0001_01</td>\n",
       "      <td>Europa</td>\n",
       "      <td>False</td>\n",
       "      <td>B/0/P</td>\n",
       "      <td>TRAPPIST-1e</td>\n",
       "      <td>39.0</td>\n",
       "      <td>False</td>\n",
       "      <td>0.0</td>\n",
       "      <td>0.0</td>\n",
       "      <td>0.0</td>\n",
       "      <td>0.0</td>\n",
       "      <td>0.0</td>\n",
       "      <td>Maham Ofracculy</td>\n",
       "      <td>False</td>\n",
       "    </tr>\n",
       "    <tr>\n",
       "      <th>1</th>\n",
       "      <td>0002_01</td>\n",
       "      <td>Earth</td>\n",
       "      <td>False</td>\n",
       "      <td>F/0/S</td>\n",
       "      <td>TRAPPIST-1e</td>\n",
       "      <td>24.0</td>\n",
       "      <td>False</td>\n",
       "      <td>109.0</td>\n",
       "      <td>9.0</td>\n",
       "      <td>25.0</td>\n",
       "      <td>549.0</td>\n",
       "      <td>44.0</td>\n",
       "      <td>Juanna Vines</td>\n",
       "      <td>True</td>\n",
       "    </tr>\n",
       "    <tr>\n",
       "      <th>2</th>\n",
       "      <td>0003_01</td>\n",
       "      <td>Europa</td>\n",
       "      <td>False</td>\n",
       "      <td>A/0/S</td>\n",
       "      <td>TRAPPIST-1e</td>\n",
       "      <td>58.0</td>\n",
       "      <td>True</td>\n",
       "      <td>43.0</td>\n",
       "      <td>3576.0</td>\n",
       "      <td>0.0</td>\n",
       "      <td>6715.0</td>\n",
       "      <td>49.0</td>\n",
       "      <td>Altark Susent</td>\n",
       "      <td>False</td>\n",
       "    </tr>\n",
       "    <tr>\n",
       "      <th>3</th>\n",
       "      <td>0003_02</td>\n",
       "      <td>Europa</td>\n",
       "      <td>False</td>\n",
       "      <td>A/0/S</td>\n",
       "      <td>TRAPPIST-1e</td>\n",
       "      <td>33.0</td>\n",
       "      <td>False</td>\n",
       "      <td>0.0</td>\n",
       "      <td>1283.0</td>\n",
       "      <td>371.0</td>\n",
       "      <td>3329.0</td>\n",
       "      <td>193.0</td>\n",
       "      <td>Solam Susent</td>\n",
       "      <td>False</td>\n",
       "    </tr>\n",
       "    <tr>\n",
       "      <th>4</th>\n",
       "      <td>0004_01</td>\n",
       "      <td>Earth</td>\n",
       "      <td>False</td>\n",
       "      <td>F/1/S</td>\n",
       "      <td>TRAPPIST-1e</td>\n",
       "      <td>16.0</td>\n",
       "      <td>False</td>\n",
       "      <td>303.0</td>\n",
       "      <td>70.0</td>\n",
       "      <td>151.0</td>\n",
       "      <td>565.0</td>\n",
       "      <td>2.0</td>\n",
       "      <td>Willy Santantines</td>\n",
       "      <td>True</td>\n",
       "    </tr>\n",
       "  </tbody>\n",
       "</table>\n",
       "</div>"
      ],
      "text/plain": [
       "  PassengerId HomePlanet CryoSleep  Cabin  Destination   Age    VIP  \\\n",
       "0     0001_01     Europa     False  B/0/P  TRAPPIST-1e  39.0  False   \n",
       "1     0002_01      Earth     False  F/0/S  TRAPPIST-1e  24.0  False   \n",
       "2     0003_01     Europa     False  A/0/S  TRAPPIST-1e  58.0   True   \n",
       "3     0003_02     Europa     False  A/0/S  TRAPPIST-1e  33.0  False   \n",
       "4     0004_01      Earth     False  F/1/S  TRAPPIST-1e  16.0  False   \n",
       "\n",
       "   RoomService  FoodCourt  ShoppingMall     Spa  VRDeck               Name  \\\n",
       "0          0.0        0.0           0.0     0.0     0.0    Maham Ofracculy   \n",
       "1        109.0        9.0          25.0   549.0    44.0       Juanna Vines   \n",
       "2         43.0     3576.0           0.0  6715.0    49.0      Altark Susent   \n",
       "3          0.0     1283.0         371.0  3329.0   193.0       Solam Susent   \n",
       "4        303.0       70.0         151.0   565.0     2.0  Willy Santantines   \n",
       "\n",
       "   Transported  \n",
       "0        False  \n",
       "1         True  \n",
       "2        False  \n",
       "3        False  \n",
       "4         True  "
      ]
     },
     "execution_count": 32,
     "metadata": {},
     "output_type": "execute_result"
    }
   ],
   "source": [
    "train = pd.read_csv(\"train.csv\")\n",
    "test = pd.read_csv(\"test.csv\")\n",
    "test_ids = test[\"PassengerId\"]\n",
    "\n",
    "train.head(5)"
   ]
  },
  {
   "cell_type": "markdown",
   "id": "19e834ec",
   "metadata": {},
   "source": [
    "## 2. Clean Data"
   ]
  },
  {
   "cell_type": "code",
   "execution_count": 33,
   "id": "679b8d43",
   "metadata": {},
   "outputs": [
    {
     "name": "stdout",
     "output_type": "stream",
     "text": [
      "total data : 8693\n",
      "PassengerId : 0.0%\n",
      "HomePlanet : 2.31%\n",
      "CryoSleep : 2.5%\n",
      "Cabin : 2.29%\n",
      "Destination : 2.09%\n",
      "Age : 2.06%\n",
      "VIP : 2.34%\n",
      "RoomService : 2.08%\n",
      "FoodCourt : 2.11%\n",
      "ShoppingMall : 2.39%\n",
      "Spa : 2.11%\n",
      "VRDeck : 2.16%\n",
      "Name : 2.3%\n",
      "Transported : 0.0%\n"
     ]
    }
   ],
   "source": [
    "print('total data : ' + str(len(train)))\n",
    "for col in train.columns:\n",
    "    none = str(round(train[col].isnull().sum()/len(train)*100, 2)) + '%'\n",
    "    print(col,':', none)"
   ]
  },
  {
   "cell_type": "code",
   "execution_count": 34,
   "id": "d69cf84c",
   "metadata": {},
   "outputs": [],
   "source": [
    "# Remove PassengerId and Name\n",
    "# Map Home planet, Cyrosleep, VIP, Cabin, Destination, Transported\n",
    "\n",
    "def clean(train):\n",
    "    train = train.drop(['PassengerId', 'Name'], axis=1)\n",
    "    categorical_variables = train.select_dtypes(include = ['object']).columns\n",
    "    numerical_variables = train._get_numeric_data().columns\n",
    "    \n",
    "    # Fill in missing data\n",
    "    for num_col in numerical_variables:\n",
    "        train[num_col] = train[num_col].fillna(train[num_col].mean())\n",
    "            \n",
    "    for cat_col in categorical_variables:\n",
    "        train[cat_col] = train[cat_col].fillna(train[cat_col].mode()[0])\n",
    "    \n",
    "    # Map Home planet\n",
    "    train[\"HomePlanet\"] = train[\"HomePlanet\"].map({'Earth':0, 'Europa':1, 'Mars':2}).astype(int)\n",
    "    \n",
    "    # Map Cryosleep\n",
    "    unique_cryosleep = train[\"CryoSleep\"].unique()\n",
    "    train[\"CryoSleep\"] = train[\"CryoSleep\"].map(dict(zip(unique_cryosleep,list(range(len(unique_cryosleep)))))).astype(int)\n",
    "    \n",
    "    # Map VIP\n",
    "    unique_vip = train[\"VIP\"].unique()\n",
    "    train[\"VIP\"] = train[\"VIP\"].map(dict(zip(unique_vip,list(range(len(unique_vip)))))).astype(int)\n",
    "    \n",
    "    # Build the deck and port features from the 'cabin' column\n",
    "    train['Deck'] = train['Cabin'].apply(lambda s: s[0] if pd.notnull(s) else 'M')\n",
    "    train['Port'] = train['Cabin'].apply(lambda s: s[-1] if pd.notnull(s) else 'M')\n",
    "    train[\"Deck\"] = train[\"Deck\"].map({'B':0, 'F':1, 'A':2, 'G':3, 'E':4, 'D':5, 'C':6, 'T':7}).astype(int)\n",
    "    train[\"Port\"] = train[\"Port\"].map({'P':0, 'S':1}).astype(int)\n",
    "    train.drop(['Cabin'], axis=1, inplace=True)\n",
    "    \n",
    "    # Map Destination\n",
    "    unique_destinations = train[\"Destination\"].unique()\n",
    "    train[\"Destination\"] = train[\"Destination\"].map(dict(zip(unique_destinations,list(range(len(unique_destinations)))))).astype(int)\n",
    "    \n",
    "    return train"
   ]
  },
  {
   "cell_type": "code",
   "execution_count": 35,
   "id": "70aee468",
   "metadata": {},
   "outputs": [
    {
     "data": {
      "text/html": [
       "<div>\n",
       "<style scoped>\n",
       "    .dataframe tbody tr th:only-of-type {\n",
       "        vertical-align: middle;\n",
       "    }\n",
       "\n",
       "    .dataframe tbody tr th {\n",
       "        vertical-align: top;\n",
       "    }\n",
       "\n",
       "    .dataframe thead th {\n",
       "        text-align: right;\n",
       "    }\n",
       "</style>\n",
       "<table border=\"1\" class=\"dataframe\">\n",
       "  <thead>\n",
       "    <tr style=\"text-align: right;\">\n",
       "      <th></th>\n",
       "      <th>HomePlanet</th>\n",
       "      <th>CryoSleep</th>\n",
       "      <th>Destination</th>\n",
       "      <th>Age</th>\n",
       "      <th>VIP</th>\n",
       "      <th>RoomService</th>\n",
       "      <th>FoodCourt</th>\n",
       "      <th>ShoppingMall</th>\n",
       "      <th>Spa</th>\n",
       "      <th>VRDeck</th>\n",
       "      <th>Transported</th>\n",
       "      <th>Deck</th>\n",
       "      <th>Port</th>\n",
       "    </tr>\n",
       "  </thead>\n",
       "  <tbody>\n",
       "    <tr>\n",
       "      <th>0</th>\n",
       "      <td>1</td>\n",
       "      <td>0</td>\n",
       "      <td>0</td>\n",
       "      <td>39.0</td>\n",
       "      <td>0</td>\n",
       "      <td>0.0</td>\n",
       "      <td>0.0</td>\n",
       "      <td>0.0</td>\n",
       "      <td>0.0</td>\n",
       "      <td>0.0</td>\n",
       "      <td>False</td>\n",
       "      <td>0</td>\n",
       "      <td>0</td>\n",
       "    </tr>\n",
       "    <tr>\n",
       "      <th>1</th>\n",
       "      <td>0</td>\n",
       "      <td>0</td>\n",
       "      <td>0</td>\n",
       "      <td>24.0</td>\n",
       "      <td>0</td>\n",
       "      <td>109.0</td>\n",
       "      <td>9.0</td>\n",
       "      <td>25.0</td>\n",
       "      <td>549.0</td>\n",
       "      <td>44.0</td>\n",
       "      <td>True</td>\n",
       "      <td>1</td>\n",
       "      <td>1</td>\n",
       "    </tr>\n",
       "    <tr>\n",
       "      <th>2</th>\n",
       "      <td>1</td>\n",
       "      <td>0</td>\n",
       "      <td>0</td>\n",
       "      <td>58.0</td>\n",
       "      <td>1</td>\n",
       "      <td>43.0</td>\n",
       "      <td>3576.0</td>\n",
       "      <td>0.0</td>\n",
       "      <td>6715.0</td>\n",
       "      <td>49.0</td>\n",
       "      <td>False</td>\n",
       "      <td>2</td>\n",
       "      <td>1</td>\n",
       "    </tr>\n",
       "    <tr>\n",
       "      <th>3</th>\n",
       "      <td>1</td>\n",
       "      <td>0</td>\n",
       "      <td>0</td>\n",
       "      <td>33.0</td>\n",
       "      <td>0</td>\n",
       "      <td>0.0</td>\n",
       "      <td>1283.0</td>\n",
       "      <td>371.0</td>\n",
       "      <td>3329.0</td>\n",
       "      <td>193.0</td>\n",
       "      <td>False</td>\n",
       "      <td>2</td>\n",
       "      <td>1</td>\n",
       "    </tr>\n",
       "    <tr>\n",
       "      <th>4</th>\n",
       "      <td>0</td>\n",
       "      <td>0</td>\n",
       "      <td>0</td>\n",
       "      <td>16.0</td>\n",
       "      <td>0</td>\n",
       "      <td>303.0</td>\n",
       "      <td>70.0</td>\n",
       "      <td>151.0</td>\n",
       "      <td>565.0</td>\n",
       "      <td>2.0</td>\n",
       "      <td>True</td>\n",
       "      <td>1</td>\n",
       "      <td>1</td>\n",
       "    </tr>\n",
       "  </tbody>\n",
       "</table>\n",
       "</div>"
      ],
      "text/plain": [
       "   HomePlanet  CryoSleep  Destination   Age  VIP  RoomService  FoodCourt  \\\n",
       "0           1          0            0  39.0    0          0.0        0.0   \n",
       "1           0          0            0  24.0    0        109.0        9.0   \n",
       "2           1          0            0  58.0    1         43.0     3576.0   \n",
       "3           1          0            0  33.0    0          0.0     1283.0   \n",
       "4           0          0            0  16.0    0        303.0       70.0   \n",
       "\n",
       "   ShoppingMall     Spa  VRDeck  Transported  Deck  Port  \n",
       "0           0.0     0.0     0.0        False     0     0  \n",
       "1          25.0   549.0    44.0         True     1     1  \n",
       "2           0.0  6715.0    49.0        False     2     1  \n",
       "3         371.0  3329.0   193.0        False     2     1  \n",
       "4         151.0   565.0     2.0         True     1     1  "
      ]
     },
     "execution_count": 35,
     "metadata": {},
     "output_type": "execute_result"
    }
   ],
   "source": [
    "train = clean(train)\n",
    "test = clean(test)\n",
    "\n",
    "train.head()"
   ]
  },
  {
   "cell_type": "markdown",
   "id": "6fcb7f2f",
   "metadata": {},
   "source": [
    "## 3. Data Processing"
   ]
  },
  {
   "cell_type": "code",
   "execution_count": 8,
   "id": "aeaa867b",
   "metadata": {},
   "outputs": [],
   "source": [
    "def detect_outliers(df, n, features):\n",
    "    \"\"\"\"\n",
    "    This function will loop through a list of features and detect outliers in each one of those features. In each\n",
    "    loop, a data point is deemed an outlier if it is less than the first quartile minus the outlier step or exceeds\n",
    "    third quartile plus the outlier step. The outlier step is defined as 2.0 times the interquartile range. Once the \n",
    "    outliers have been determined for one feature, their indices will be stored in a list before proceeding to the next\n",
    "    feature and the process repeats until the very last feature is completed. Finally, using the list with outlier \n",
    "    indices, we will count the frequencies of the index numbers and return them if their frequency exceeds n times.    \n",
    "    \"\"\"\n",
    "    outlier_indices = [] \n",
    "    for col in features: \n",
    "        Q1 = np.percentile(df[col], 25)\n",
    "        Q3 = np.percentile(df[col], 75)\n",
    "        IQR = Q3 - Q1\n",
    "        outlier_step = 2 * IQR \n",
    "        outlier_list_col = df[(df[col] < Q1 - outlier_step) | (df[col] > Q3 + outlier_step)].index\n",
    "        outlier_indices.extend(outlier_list_col) \n",
    "    outlier_indices = Counter(outlier_indices)\n",
    "    multiple_outliers = list(key for key, value in outlier_indices.items() if value > n) \n",
    "    return multiple_outliers"
   ]
  },
  {
   "cell_type": "code",
   "execution_count": 9,
   "id": "f95ebb3f",
   "metadata": {},
   "outputs": [],
   "source": [
    "# outliers_to_drop = detect_outliers(train, 2, ['Age', 'RoomService', 'FoodCourt', 'ShoppingMall', 'Spa', 'VRDeck'])\n",
    "# print(\"We will drop these {} indices: \".format(len(outliers_to_drop)), outliers_to_drop)\n",
    "\n",
    "# Comment: Cannot remove outlier because too much data will be lost."
   ]
  },
  {
   "cell_type": "markdown",
   "id": "af44f6fc",
   "metadata": {},
   "source": [
    "## 4. Modeling"
   ]
  },
  {
   "cell_type": "code",
   "execution_count": 36,
   "id": "3aa7c84d",
   "metadata": {},
   "outputs": [],
   "source": [
    "y = train[\"Transported\"]\n",
    "X = train.drop(\"Transported\", axis=1)\n",
    "\n",
    "X_train, X_val, y_train, y_val = train_test_split(X, y, test_size=0.2, random_state=42)"
   ]
  },
  {
   "cell_type": "code",
   "execution_count": 37,
   "id": "a29a4319",
   "metadata": {},
   "outputs": [],
   "source": [
    "# Logistic Regression \n",
    "clf = LogisticRegression(random_state=0, max_iter=1000).fit(X_train,y_train)\n",
    "clf_pred_score = clf.score(X_val,y_val)\n",
    "\n",
    "# Random Forest\n",
    "rf = RandomForestClassifier()\n",
    "rf.fit(X_train,y_train)\n",
    "rf_pred_score = rf.score(X_val,y_val)\n",
    "\n",
    "# Gradient Boosting \n",
    "gb = GradientBoostingClassifier()\n",
    "gb.fit(X_train,y_train)\n",
    "gb_pred_score = gb.score(X_val,y_val)\n",
    "\n",
    "# SVM\n",
    "svc = SVC()\n",
    "svc.fit(X_train,y_train)\n",
    "svc_pred_score = svc.score(X_val,y_val)"
   ]
  },
  {
   "cell_type": "code",
   "execution_count": 38,
   "id": "6cd34197",
   "metadata": {},
   "outputs": [
    {
     "data": {
      "text/html": [
       "<div>\n",
       "<style scoped>\n",
       "    .dataframe tbody tr th:only-of-type {\n",
       "        vertical-align: middle;\n",
       "    }\n",
       "\n",
       "    .dataframe tbody tr th {\n",
       "        vertical-align: top;\n",
       "    }\n",
       "\n",
       "    .dataframe thead th {\n",
       "        text-align: right;\n",
       "    }\n",
       "</style>\n",
       "<table border=\"1\" class=\"dataframe\">\n",
       "  <thead>\n",
       "    <tr style=\"text-align: right;\">\n",
       "      <th></th>\n",
       "      <th>model</th>\n",
       "      <th>accuracy</th>\n",
       "    </tr>\n",
       "  </thead>\n",
       "  <tbody>\n",
       "    <tr>\n",
       "      <th>0</th>\n",
       "      <td>Logistic Regression</td>\n",
       "      <td>0.775158</td>\n",
       "    </tr>\n",
       "    <tr>\n",
       "      <th>1</th>\n",
       "      <td>Random Forest</td>\n",
       "      <td>0.782059</td>\n",
       "    </tr>\n",
       "    <tr>\n",
       "      <th>2</th>\n",
       "      <td>Gradient Boosting</td>\n",
       "      <td>0.785509</td>\n",
       "    </tr>\n",
       "    <tr>\n",
       "      <th>3</th>\n",
       "      <td>SVM</td>\n",
       "      <td>0.764807</td>\n",
       "    </tr>\n",
       "  </tbody>\n",
       "</table>\n",
       "</div>"
      ],
      "text/plain": [
       "                 model  accuracy\n",
       "0  Logistic Regression  0.775158\n",
       "1        Random Forest  0.782059\n",
       "2    Gradient Boosting  0.785509\n",
       "3                  SVM  0.764807"
      ]
     },
     "execution_count": 38,
     "metadata": {},
     "output_type": "execute_result"
    }
   ],
   "source": [
    "pred_score = pd.DataFrame(dict(model=['Logistic Regression', \n",
    "                              'Random Forest', \n",
    "                              'Gradient Boosting',\n",
    "                              'SVM'], accuracy = [clf_pred_score, rf_pred_score, \n",
    "                                               gb_pred_score, svc_pred_score]))\n",
    "pred_score"
   ]
  },
  {
   "cell_type": "code",
   "execution_count": 13,
   "id": "d3a0209c",
   "metadata": {},
   "outputs": [
    {
     "data": {
      "image/png": "[encoded data removed]",
      "text/plain": [
       "<Figure size 432x288 with 1 Axes>"
      ]
     },
     "metadata": {
      "needs_background": "light"
     },
     "output_type": "display_data"
    }
   ],
   "source": [
    "pred_score.plot(kind='bar',x='model',y='accuracy',title='Model Accuracy',legend=False,\n",
    "        color=['#1F77B4', '#FF7F0E', '#2CA02C'])\n",
    "plt.ylim(0.5,1);"
   ]
  },
  {
   "cell_type": "markdown",
   "id": "2a0ba714",
   "metadata": {},
   "source": [
    "## 5. Preparing for Submission"
   ]
  },
  {
   "cell_type": "code",
   "execution_count": 14,
   "id": "55913b06",
   "metadata": {},
   "outputs": [],
   "source": [
    "submission_preds = svc.predict(test)"
   ]
  },
  {
   "cell_type": "code",
   "execution_count": 15,
   "id": "f7e1b8f1",
   "metadata": {},
   "outputs": [],
   "source": [
    "df = pd.DataFrame({\"PassengerId\": test_ids.values,\n",
    "                   \"Transported\": submission_preds\n",
    "                  })"
   ]
  },
  {
   "cell_type": "code",
   "execution_count": 16,
   "id": "888ba826",
   "metadata": {},
   "outputs": [],
   "source": [
    "df.to_csv(\"submission.csv\", index=False)"
   ]
  },
  {
   "cell_type": "code",
   "execution_count": 18,
   "id": "2f58d190",
   "metadata": {},
   "outputs": [
    {
     "name": "stdout",
     "output_type": "stream",
     "text": [
      "Warning: Looks like you're using an outdated API Version, please consider updating (server 1.5.13 / client 1.5.12)\n",
      "100%|██████████████████████████████████████| 56.0k/56.0k [00:00<00:00, 87.2kB/s]\n",
      "400 - Bad Request\n"
     ]
    }
   ],
   "source": [
    "!kaggle competitions submit -c spaceship-titanic -f ./submission.csv -m \"Submission with SVC\""
   ]
  }
 ],
 "metadata": {
  "kernelspec": {
   "display_name": "Python 3 (ipykernel)",
   "language": "python",
   "name": "python3"
  },
  "language_info": {
   "codemirror_mode": {
    "name": "ipython",
    "version": 3
   },
   "file_extension": ".py",
   "mimetype": "text/x-python",
   "name": "python",
   "nbconvert_exporter": "python",
   "pygments_lexer": "ipython3",
   "version": "3.9.12"
  }
 },
 "nbformat": 4,
 "nbformat_minor": 5
}
